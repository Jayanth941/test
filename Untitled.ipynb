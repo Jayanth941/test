{
 "cells": [
  {
   "cell_type": "code",
   "execution_count": 5,
   "id": "45bd12cf",
   "metadata": {},
   "outputs": [
    {
     "name": "stdout",
     "output_type": "stream",
     "text": [
      "True\n",
      "True\n",
      "True\n",
      "False\n",
      "True\n",
      "True\n"
     ]
    }
   ],
   "source": [
    "num1 = 5\n",
    "num2 = 2\n",
    "sub = num1 - num2 \n",
    "\n",
    "print(sub == 3) # Out: True\n",
    "print(num1 % 2 != 0) # Out: True\n",
    "print(num1 > 3) # Out: True\n",
    "print(num1 < 3) # Out: False\n",
    "print(num2 >= 2) # Out: True\n",
    "print(num2 <= 2) # Out: True"
   ]
  },
  {
   "cell_type": "code",
   "execution_count": 19,
   "id": "77bcbf8e",
   "metadata": {},
   "outputs": [
    {
     "name": "stdout",
     "output_type": "stream",
     "text": [
      "True\n",
      "False\n",
      "True\n",
      "True\n",
      "False\n",
      "True\n"
     ]
    }
   ],
   "source": [
    "num = 5\n",
    "print(num > 5 or 5<= num) # Out: True\n",
    "print(num != 5 == 2*num > 7) # Out: False\n",
    "print(2*num == 10 > num%3 <= 3) # Out: True\n",
    "\n",
    "#These are exactly the same as:\n",
    "print(num > 4 and 4 <= num) # Out: True\n",
    "print(num != 5 and 5 == 2*num and 2*num > 7) # Out: False\n",
    "print(2*num == 10 and 10 > num%3 and num%3 <= 3) # Out: True\n"
   ]
  },
  {
   "cell_type": "code",
   "execution_count": 25,
   "id": "732bb314",
   "metadata": {},
   "outputs": [
    {
     "name": "stdout",
     "output_type": "stream",
     "text": [
      "True\n",
      "False\n",
      "True\n"
     ]
    }
   ],
   "source": [
    "\n",
    "number_list = [ 1 , 2 , 3 , 4 , 5 ]\n",
    "num_tuple = (1, 5, 9)\n",
    "\n",
    "print(2 in number_list)\n",
    "# output: True=\n",
    "\n",
    "print(9 in number_list)\n",
    "# output: False\n",
    "\n",
    "print(9 in num_tuple)\n",
    "# output: "
   ]
  },
  {
   "cell_type": "code",
   "execution_count": 27,
   "id": "128e4fd1",
   "metadata": {},
   "outputs": [
    {
     "name": "stdout",
     "output_type": "stream",
     "text": [
      "15\n"
     ]
    }
   ],
   "source": [
    "a, b = 15, 10\n",
    "larger = a if a > b else b\n",
    "print(larger)\n",
    "\n",
    "# Out: 10\n"
   ]
  },
  {
   "cell_type": "code",
   "execution_count": 34,
   "id": "816a195b",
   "metadata": {},
   "outputs": [
    {
     "name": "stdout",
     "output_type": "stream",
     "text": [
      "1, \n",
      "2, \n",
      "FizzopSKXOK, \n",
      "4, \n",
      "Buzz, \n",
      "FizzopSKXOK, \n",
      "7, \n",
      "8, \n",
      "FizzopSKXOK, \n",
      "Buzz, \n",
      "11, \n",
      "FizzopSKXOK, \n",
      "13, \n",
      "14, \n"
     ]
    }
   ],
   "source": [
    "i = 1\n",
    "while i < 15:\n",
    "    if i%3 == 0:\n",
    "        print(\"Fizz\", end='')\n",
    "    if i%5 == 0:\n",
    "        print(\"Buzz\", end='')\n",
    "    if i%3!=0 and i%5!=0:\n",
    "        print(i, end='')\n",
    "    print(', ')\n",
    "    i = i + 1"
   ]
  },
  {
   "cell_type": "code",
   "execution_count": 1,
   "id": "c353b210",
   "metadata": {},
   "outputs": [
    {
     "name": "stdout",
     "output_type": "stream",
     "text": [
      "James joined in 1981\n",
      "Kirk joined in 1983\n",
      "Robert joined in 2003\n",
      "Lars joined in 1981\n"
     ]
    }
   ],
   "source": [
    "debuts = {'James': 1981, 'Kirk': 1983, 'Robert': 2003, 'Lars': 1981}\n",
    "for key in debuts:\n",
    "    print(f\"{key} joined in {debuts[key]}\")"
   ]
  },
  {
   "cell_type": "code",
   "execution_count": 4,
   "id": "9796a67b",
   "metadata": {},
   "outputs": [
    {
     "name": "stdout",
     "output_type": "stream",
     "text": [
      "James joined in 1981\n",
      "Kirk joined in 1983\n",
      "Robert joined in 2003\n",
      "Lars joined in 1981\n"
     ]
    }
   ],
   "source": [
    "\n",
    "debuts = {'James': 1981, 'Kirk': 1983, 'Robert': 2003, 'Lars': 1981}\n",
    "for key, value in debuts.items():\n",
    "    print(f\"{key} joined in {value}\")\n"
   ]
  },
  {
   "cell_type": "code",
   "execution_count": 12,
   "id": "f650dcb7",
   "metadata": {},
   "outputs": [
    {
     "name": "stdout",
     "output_type": "stream",
     "text": [
      "Enter a string:jbijboonjoikj\n",
      "The inputted string is: jbijboonjoikj\n"
     ]
    }
   ],
   "source": [
    "inputString = input('Enter a string:') # argument is the prompt\n",
    "\n",
    "print('The inputted string is:', inputString)\n"
   ]
  },
  {
   "cell_type": "code",
   "execution_count": null,
   "id": "03e770d8",
   "metadata": {},
   "outputs": [],
   "source": []
  },
  {
   "cell_type": "code",
   "execution_count": null,
   "id": "43bf2092",
   "metadata": {},
   "outputs": [],
   "source": []
  },
  {
   "cell_type": "code",
   "execution_count": null,
   "id": "37924292",
   "metadata": {},
   "outputs": [],
   "source": []
  },
  {
   "cell_type": "code",
   "execution_count": null,
   "id": "f89569e7",
   "metadata": {},
   "outputs": [],
   "source": []
  },
  {
   "cell_type": "code",
   "execution_count": null,
   "id": "5df35fd5",
   "metadata": {},
   "outputs": [],
   "source": []
  },
  {
   "cell_type": "code",
   "execution_count": null,
   "id": "c425bb7d",
   "metadata": {},
   "outputs": [],
   "source": []
  }
 ],
 "metadata": {
  "kernelspec": {
   "display_name": "Python 3",
   "language": "python",
   "name": "python3"
  },
  "language_info": {
   "codemirror_mode": {
    "name": "ipython",
    "version": 3
   },
   "file_extension": ".py",
   "mimetype": "text/x-python",
   "name": "python",
   "nbconvert_exporter": "python",
   "pygments_lexer": "ipython3",
   "version": "3.8.8"
  }
 },
 "nbformat": 4,
 "nbformat_minor": 5
}
